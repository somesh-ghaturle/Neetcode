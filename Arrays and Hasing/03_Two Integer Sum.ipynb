{
 "cells": [
  {
   "cell_type": "markdown",
   "metadata": {},
   "source": [
    "Two Integer Sum\n",
    "===============\n",
    "\n",
    "\n",
    "Easy\n",
    "\n",
    "Given an array of integers `nums` and an integer `target`, return the indices `i` and `j` such that `nums[i] + nums[j] == target` and `i != j`.\n",
    "\n",
    "You may assume that *every* input has exactly one pair of indices `i` and `j` that satisfy the condition.\n",
    "\n",
    "Return the answer with the smaller index first.\n",
    "\n",
    "Example 1:\n",
    "\n",
    "```\n",
    "Input:\n",
    "nums = [3,4,5,6], target = 7\n",
    "\n",
    "Output: [0,1]\n",
    "\n",
    "```\n",
    "\n",
    "\n",
    "Explanation: `nums[0] + nums[1] == 7`, so we return `[0, 1]`.\n",
    "\n",
    "Example 2:\n",
    "\n",
    "```\n",
    "Input: nums = [4,5,6], target = 10\n",
    "\n",
    "Output: [0,2]\n",
    "\n",
    "```\n",
    "\n",
    "\n",
    "Example 3:\n",
    "\n",
    "```\n",
    "Input: nums = [5,5], target = 10\n",
    "\n",
    "Output: [0,1]\n",
    "\n",
    "```\n",
    "\n",
    "Copy\n",
    "\n",
    "Constraints:\n",
    "\n",
    "-   `2 <= nums.length <= 1000`\n",
    "-   `-10,000,000 <= nums[i] <= 10,000,000`\n",
    "-   `-10,000,000 <= target <= 10,000,000`"
   ]
  },
  {
   "cell_type": "code",
   "execution_count": 2,
   "metadata": {},
   "outputs": [
    {
     "name": "stdout",
     "output_type": "stream",
     "text": [
      "[0, 1]\n"
     ]
    }
   ],
   "source": [
    "from typing import List\n",
    "class Solution:\n",
    "    def twoSum(self, nums: List[int], target: int) -> List[int]:\n",
    "        for i in range(0,len(nums)):\n",
    "            for j in range(0,len(nums)):\n",
    "                if nums[i] + nums[j] == target and i != j:\n",
    "                    return [i,j]\n",
    "\n",
    "def main():\n",
    "    solution = Solution\n",
    "    print(solution.twoSum(solution,nums=[3,4,5,6],target=7))\n",
    "\n",
    "if __name__=='__main__':\n",
    "    main()\n"
   ]
  }
 ],
 "metadata": {
  "kernelspec": {
   "display_name": "Python 3",
   "language": "python",
   "name": "python3"
  },
  "language_info": {
   "codemirror_mode": {
    "name": "ipython",
    "version": 3
   },
   "file_extension": ".py",
   "mimetype": "text/x-python",
   "name": "python",
   "nbconvert_exporter": "python",
   "pygments_lexer": "ipython3",
   "version": "3.12.1"
  }
 },
 "nbformat": 4,
 "nbformat_minor": 2
}
